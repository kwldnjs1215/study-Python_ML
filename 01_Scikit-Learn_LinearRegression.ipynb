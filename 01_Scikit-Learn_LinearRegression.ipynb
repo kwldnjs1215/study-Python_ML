Scikit-Learn - LinearRegression




'''
회귀분석용 sklearn dataset 정리
'''
import sklearn

# sklearn : 기계학습 관련 도구 패키지
dir(sklearn)

# sklearn 모듈 확인
print(sklearn.__all__)
'''
cluster : 군집모델
datasets : 실습용 데이터셋
ensemble : 앙상블모델
linear_model : 선형회귀모델
metrics : 모델 평가
model_selection : train/test 나누기
neural_network : 신경망 모델
preprocessing : 전처리
svm : SVM 모델
tree : Tree 모델
'''

from sklearn import datasets # dataset 제공 library

# Number of Instances: 데이터 개수, 행의 개수
# Number of Attributes: 컬럼 개수, 열의 개수
# class : 종류

######################################
# 선형회귀분석에 적합한 데이터셋
######################################

# 1. 붓꽃(iris) : 회귀와 분류 모두 사용
'''
붓꽃(iris) 데이터
- 붓꽃 데이터는 통계학자 피셔(R.A Fisher)의 붓꽃의 분류 연구에 기반한 데이터

• 타겟 변수 : y변수
세가지 붓꽃 종(species) : setosa, versicolor, virginica

•특징 변수(4) : x변수
꽃받침 길이(Sepal Length)
꽃받침 폭(Sepal Width)
꽃잎 길이(Petal Length)
꽃잎 폭(Petal Width)
'''
iris = datasets.load_iris() # dataset load
print(iris)
print(iris.DESCR) # dataset 설명제공 : 변수특징, 요약통계

# X, y변수 선택
iris_X = iris.data # x변수
iris_y = iris.target # y변수

# 객체형과 모양확인
print(type(iris_X))
print(type(iris_y))

print(iris_X.shape) # (150, 4) : 2d
print(iris_y.shape) # (150,) : 1d


# X변수명과 y변수 범주명
print(iris.feature_names)# ['sepal length (cm)', 'sepal width (cm)', 'petal length (cm)', 'petal width (cm)']
print(iris.target_names) # ['setosa' 'versicolor' 'virginica']




